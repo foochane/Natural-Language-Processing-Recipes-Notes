{
 "cells": [
  {
   "cell_type": "markdown",
   "metadata": {},
   "source": [
    "fastText is another deep learning framework developed by Facebook to\n",
    "capture context and meaning."
   ]
  },
  {
   "cell_type": "markdown",
   "metadata": {},
   "source": [
    "## Problem\n",
    "How to implement fastText in Python."
   ]
  },
  {
   "cell_type": "code",
   "execution_count": null,
   "metadata": {},
   "outputs": [],
   "source": [
    "# Import FastText\n",
    "from gensim.models import FastText\n",
    "from sklearn.decomposition import PCA\n",
    "from matplotlib import pyplot\n",
    "#Example sentences\n",
    "sentences = [['I', 'love', 'nlp'],\n",
    "            ['I', 'will', 'learn', 'nlp', 'in', '2','months'],\n",
    "            ['nlp', 'is', 'future'],\n",
    "            ['nlp', 'saves', 'time', 'and', 'solves',\n",
    "            'lot', 'of', 'industry', 'problems'],\n",
    "            ['nlp', 'uses', 'machine', 'learning']]\n",
    "fast = FastText(sentences,size=20, window=1, min_count=1,workers=5, min_n=1, max_n=2)\n",
    "\n",
    "# vector for word nlp\n",
    "print(fast['nlp'])"
   ]
  },
  {
   "cell_type": "code",
   "execution_count": null,
   "metadata": {},
   "outputs": [],
   "source": [
    "# vector for word deep\n",
    "print(fast['deep'])"
   ]
  },
  {
   "cell_type": "code",
   "execution_count": null,
   "metadata": {},
   "outputs": [],
   "source": [
    "# load model\n",
    "fast = Word2Vec.load('fast.bin')\n",
    "# visualize\n",
    "X = fast[fast.wv.vocab]\n",
    "pca = PCA(n_components=2)\n",
    "result = pca.fit_transform(X)"
   ]
  },
  {
   "cell_type": "code",
   "execution_count": null,
   "metadata": {},
   "outputs": [],
   "source": [
    "# create a scatter plot of the projection\n",
    "pyplot.scatter(result[:, 0], result[:, 1])\n",
    "words = list(fast.wv.vocab)\n",
    "for i, word in enumerate(words):\n",
    "    pyplot.annotate(word, xy=(result[i, 0], result[i, 1]))\n",
    "pyplot.show()"
   ]
  },
  {
   "cell_type": "code",
   "execution_count": null,
   "metadata": {},
   "outputs": [],
   "source": []
  }
 ],
 "metadata": {
  "kernelspec": {
   "display_name": "Python 3",
   "language": "python",
   "name": "python3"
  },
  "language_info": {
   "codemirror_mode": {
    "name": "ipython",
    "version": 3
   },
   "file_extension": ".py",
   "mimetype": "text/x-python",
   "name": "python",
   "nbconvert_exporter": "python",
   "pygments_lexer": "ipython3",
   "version": "3.6.3"
  }
 },
 "nbformat": 4,
 "nbformat_minor": 2
}

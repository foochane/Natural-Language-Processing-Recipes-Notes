{
 "cells": [
  {
   "cell_type": "markdown",
   "metadata": {},
   "source": [
    "## Problem\n",
    "We will have multiple tables in the database, and sometimes there won’t\n",
    "be a common “ID” or “KEY” to join them – scenarios like the following:\n",
    "\n",
    "• Customer information scattered across multiple tables and systems.\n",
    "\n",
    "• No global key to link them all together.\n",
    "\n",
    "• A lot of variations in names and addresses.\n",
    "\n",
    "## Solution\n",
    "This can be solved by applying text similarity functions on the\n",
    "demographic’s columns like the first name, last name, address, etc. And\n",
    "based on the similarity score on a few common columns, we can decide\n",
    "either the record pair is a match or not a match."
   ]
  },
  {
   "cell_type": "markdown",
   "metadata": {},
   "source": [
    "## How It Works\n",
    "Let’s follow the steps in this section to link the records.\n",
    "Technical challenge:\n",
    "\n",
    "• Huge records that need to be linked/stitched/\n",
    "deduplicated.\n",
    "\n",
    "• Records come from various systems with differing\n",
    "schemas.\n",
    "\n",
    "There is no global key or customer id to merge. There are two possible\n",
    "scenarios of data stitching or linking records:\n",
    "\n",
    "• Multiple records of the same customer at the same\n",
    "table, and you want to dedupe.\n",
    "\n",
    "• Records of same customers from multiple tables need\n",
    "to be merged.\n",
    "\n",
    "For Recipe 3-A, let’s solve scenario 1 that is deduplication and as a part\n",
    "of Recipe 3-B, let’s solve scenario 2 that is record linkage from multiple tables."
   ]
  },
  {
   "cell_type": "markdown",
   "metadata": {},
   "source": [
    "## Deduplication in the same table\n",
    "### Step 3A-1 Read and understand the data\n",
    "We need the data first:"
   ]
  },
  {
   "cell_type": "code",
   "execution_count": null,
   "metadata": {},
   "outputs": [],
   "source": [
    "# Import package\n",
    "!pip install recordlinkage\n",
    "\n",
    "import recordlinkage\n",
    "#For this demo let us use the inbuilt dataset fromrecordlinkage library\n",
    "#import data set\n",
    "\n",
    "from recordlinkage.datasets import load_febrl1\n",
    "\n",
    "#create a dataframe - dfa\n",
    "dfA = load_febrl1()\n",
    "dfA.head()"
   ]
  },
  {
   "cell_type": "code",
   "execution_count": null,
   "metadata": {},
   "outputs": [],
   "source": []
  }
 ],
 "metadata": {
  "kernelspec": {
   "display_name": "Python 3",
   "language": "python",
   "name": "python3"
  },
  "language_info": {
   "codemirror_mode": {
    "name": "ipython",
    "version": 3
   },
   "file_extension": ".py",
   "mimetype": "text/x-python",
   "name": "python",
   "nbconvert_exporter": "python",
   "pygments_lexer": "ipython3",
   "version": "3.6.3"
  }
 },
 "nbformat": 4,
 "nbformat_minor": 2
}

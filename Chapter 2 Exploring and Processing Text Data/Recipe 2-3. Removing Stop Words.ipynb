{
 "cells": [
  {
   "cell_type": "markdown",
   "metadata": {},
   "source": [
    " Stop words\n",
    "are very common words that carry no meaning or less meaning compared\n",
    "to other keywords. \n",
    "\n",
    "Say, for example, in the\n",
    "context of a search engine, if your search query is “How to develop chatbot\n",
    "using python,” if the search engine tries to find web pages that contained the\n",
    "terms “how,” “to,” “develop,” “chatbot,” “using,” “python,” the search engine\n",
    "is going to find a lot more pages that contain the terms “how” and “to” than\n",
    "pages that contain information about developing chatbot because the terms\n",
    "“how” and “to” are so commonly used in the English language. So, if we\n",
    "remove such terms, the search engine can actually focus on retrieving pages\n",
    "that contain the keywords: “develop,” “chatbot,” “python” – which would\n",
    "more closely bring up pages that are of real interest. Similarly we can remove\n",
    "more common words and rare words as well."
   ]
  },
  {
   "cell_type": "markdown",
   "metadata": {},
   "source": [
    "### Problem\n",
    "You want to remove stop words."
   ]
  },
  {
   "cell_type": "markdown",
   "metadata": {},
   "source": [
    "### Solution\n",
    "The simplest way to do this by using the NLTK library, or you can build\n",
    "your own stop words file."
   ]
  },
  {
   "cell_type": "markdown",
   "metadata": {},
   "source": [
    "### Step 3-1 Read/create the text data\n",
    "Let’s create a list of strings and assign it to a variable.\n"
   ]
  },
  {
   "cell_type": "code",
   "execution_count": 1,
   "metadata": {},
   "outputs": [
    {
     "name": "stdout",
     "output_type": "stream",
     "text": [
      "                                               tweet\n",
      "0                        This is introduction to NLP\n",
      "1              It is likely to be useful, to people \n",
      "2             Machine learning is the new electrcity\n",
      "3  There would be less hype around AI and more ac...\n",
      "4                           python is the best tool!\n",
      "5                                R is good langauage\n",
      "6                                   I like this book\n",
      "7                        I want more books like this\n"
     ]
    }
   ],
   "source": [
    "text=['This is introduction to NLP','It is likely to be useful, to people ',\n",
    "      'Machine learning is the new electrcity',\n",
    "      'There would be less hype around AI and more action going forward',\n",
    "      'python is the best tool!','R is good langauage','I like this book',\n",
    "      'I want more books like this']\n",
    "#convert list to data frame\n",
    "import pandas as pd\n",
    "df = pd.DataFrame({'tweet':text})\n",
    "print(df)"
   ]
  },
  {
   "cell_type": "markdown",
   "metadata": {},
   "source": [
    "### Step 3-2 Execute below commands on the text data\n",
    "Using the NLTK library, we can remove the punctuation as shown below.\n"
   ]
  },
  {
   "cell_type": "code",
   "execution_count": null,
   "metadata": {},
   "outputs": [
    {
     "name": "stdout",
     "output_type": "stream",
     "text": [
      "Requirement already satisfied: nltk in d:\\workspace\\python\\anaconda3\\lib\\site-packages (3.2.4)\n",
      "Requirement already satisfied: six in d:\\workspace\\python\\anaconda3\\lib\\site-packages (from nltk) (1.12.0)\n",
      "showing info https://raw.githubusercontent.com/nltk/nltk_data/gh-pages/index.xml\n"
     ]
    }
   ],
   "source": [
    "#install and import libraries\n",
    "!pip install nltk\n",
    "\n",
    "import nltk\n",
    "nltk.download()\n",
    "from nltk.corpus import stopwords\n",
    "#remove stop words\n",
    "stop = stopwords.words('english')\n",
    "df['tweet'] = df['tweet'].apply(lambda x: \"\".join(x for x in x.split() if x not in stop))\n",
    "df['tweet']"
   ]
  },
  {
   "cell_type": "code",
   "execution_count": null,
   "metadata": {},
   "outputs": [],
   "source": []
  }
 ],
 "metadata": {
  "kernelspec": {
   "display_name": "Python 3",
   "language": "python",
   "name": "python3"
  },
  "language_info": {
   "codemirror_mode": {
    "name": "ipython",
    "version": 3
   },
   "file_extension": ".py",
   "mimetype": "text/x-python",
   "name": "python",
   "nbconvert_exporter": "python",
   "pygments_lexer": "ipython3",
   "version": "3.6.3"
  }
 },
 "nbformat": 4,
 "nbformat_minor": 2
}

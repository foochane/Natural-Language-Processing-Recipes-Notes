{
 "cells": [
  {
   "cell_type": "markdown",
   "metadata": {},
   "source": [
    "## Problem\n",
    "You want to do spelling correction.\n",
    "## Solution\n",
    "The simplest way to do this by using the TextBlob library"
   ]
  },
  {
   "cell_type": "markdown",
   "metadata": {},
   "source": [
    "## Step 5-1 Read/create the text data\n",
    "Let’s create a list of strings and assign it to a variable.\n"
   ]
  },
  {
   "cell_type": "code",
   "execution_count": 1,
   "metadata": {},
   "outputs": [
    {
     "name": "stdout",
     "output_type": "stream",
     "text": [
      "                                    tweet\n",
      "0                     Introduction to NLP\n",
      "1   It is likely to be useful, to people \n",
      "2  Machine learning is the new electrcity\n",
      "3                     R is good langauage\n",
      "4                        I like this book\n",
      "5             I want more books like this\n"
     ]
    }
   ],
   "source": [
    "text=['Introduction to NLP','It is likely to be useful, to people ',\n",
    "      'Machine learning is the new electrcity', 'R is good langauage',\n",
    "      'I like this book','I want more books like this']\n",
    "\n",
    "#convert list to dataframe\n",
    "import pandas as pd\n",
    "df = pd.DataFrame({'tweet':text})\n",
    "print(df)"
   ]
  },
  {
   "cell_type": "markdown",
   "metadata": {},
   "source": [
    "### Step 5-2 Execute below code on the text data\n",
    "Using TextBlob, we can do spelling correction as shown below:\n"
   ]
  },
  {
   "cell_type": "code",
   "execution_count": 4,
   "metadata": {},
   "outputs": [
    {
     "name": "stdout",
     "output_type": "stream",
     "text": [
      "Requirement already satisfied: textblob in d:\\workspace\\python\\anaconda3\\lib\\site-packages (0.15.3)\n",
      "Requirement already satisfied: nltk>=3.1 in d:\\workspace\\python\\anaconda3\\lib\\site-packages (from textblob) (3.2.4)\n",
      "Requirement already satisfied: six in d:\\workspace\\python\\anaconda3\\lib\\site-packages (from nltk>=3.1->textblob) (1.12.0)\n",
      "Collecting autocorrect\n",
      "  Downloading https://files.pythonhosted.org/packages/ec/b6/6c74ff19249dc6d7285541cd59f5a3edbbd0f7209362a63e314fc09b2636/autocorrect-0.3.0.tar.gz (3.6MB)\n",
      "Building wheels for collected packages: autocorrect\n",
      "  Running setup.py bdist_wheel for autocorrect: started\n",
      "  Running setup.py bdist_wheel for autocorrect: finished with status 'done'\n",
      "  Stored in directory: C:\\Users\\fucheng\\AppData\\Local\\pip\\Cache\\wheels\\bf\\b8\\ae\\704d5643f1d0637c5b87d9feccf2ee923c492b703bb0bfbb19\n",
      "Successfully built autocorrect\n",
      "Installing collected packages: autocorrect\n",
      "Successfully installed autocorrect-0.3.0\n",
      "message\n",
      "service\n"
     ]
    }
   ],
   "source": [
    "#Install textblob library\n",
    "!pip install textblob\n",
    "\n",
    "#import libraries and use 'correct' function\n",
    "from textblob import TextBlob\n",
    "df['tweet'].apply(lambda x: str(TextBlob(x).correct()))\n",
    "\n",
    "#You can also use autocorrect library as shown below\n",
    "#install autocorrect\n",
    "!pip install autocorrect\n",
    "\n",
    "from autocorrect import spell\n",
    "print(spell(u'mussage'))\n",
    "print(spell(u'sirvice'))"
   ]
  },
  {
   "cell_type": "code",
   "execution_count": null,
   "metadata": {},
   "outputs": [],
   "source": []
  }
 ],
 "metadata": {
  "kernelspec": {
   "display_name": "Python 3",
   "language": "python",
   "name": "python3"
  },
  "language_info": {
   "codemirror_mode": {
    "name": "ipython",
    "version": 3
   },
   "file_extension": ".py",
   "mimetype": "text/x-python",
   "name": "python",
   "nbconvert_exporter": "python",
   "pygments_lexer": "ipython3",
   "version": "3.6.3"
  }
 },
 "nbformat": 4,
 "nbformat_minor": 2
}

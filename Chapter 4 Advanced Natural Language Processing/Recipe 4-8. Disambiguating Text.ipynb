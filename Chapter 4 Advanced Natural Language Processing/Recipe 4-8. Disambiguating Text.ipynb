{
 "cells": [
  {
   "cell_type": "markdown",
   "metadata": {},
   "source": [
    "## Problem\n",
    "Understanding disambiguating word sense."
   ]
  },
  {
   "cell_type": "markdown",
   "metadata": {},
   "source": [
    "## Step 8-1 Import libraries\n",
    "First, import the libraries:\n"
   ]
  },
  {
   "cell_type": "code",
   "execution_count": 2,
   "metadata": {},
   "outputs": [
    {
     "name": "stdout",
     "output_type": "stream",
     "text": [
      "Collecting pywsd\n",
      "  Downloading https://files.pythonhosted.org/packages/2c/42/9ba0a5901669d213de1487e11906f7caf20283a9c686540176520998e1cd/pywsd-1.1.7.tar.gz (23.6MB)\n",
      "Requirement already satisfied: nltk in d:\\workspace\\python\\anaconda3\\lib\\site-packages (from pywsd) (3.2.4)\n",
      "Requirement already satisfied: numpy in d:\\workspace\\python\\anaconda3\\lib\\site-packages (from pywsd) (1.16.0)\n",
      "Requirement already satisfied: pandas in d:\\workspace\\python\\anaconda3\\lib\\site-packages (from pywsd) (0.20.3)\n",
      "Requirement already satisfied: six in d:\\workspace\\python\\anaconda3\\lib\\site-packages (from nltk->pywsd) (1.12.0)\n",
      "Requirement already satisfied: python-dateutil>=2 in d:\\workspace\\python\\anaconda3\\lib\\site-packages (from pandas->pywsd) (2.7.5)\n",
      "Requirement already satisfied: pytz>=2011k in d:\\workspace\\python\\anaconda3\\lib\\site-packages (from pandas->pywsd) (2017.2)\n",
      "Building wheels for collected packages: pywsd\n",
      "  Running setup.py bdist_wheel for pywsd: started\n",
      "  Running setup.py bdist_wheel for pywsd: finished with status 'done'\n",
      "  Stored in directory: C:\\Users\\fucheng\\AppData\\Local\\pip\\Cache\\wheels\\2c\\7e\\c1\\6dc25b4ecf76f2455743a4b5bd19549316b230229c3e40b1da\n",
      "Successfully built pywsd\n",
      "Installing collected packages: pywsd\n",
      "Successfully installed pywsd-1.1.7\n"
     ]
    },
    {
     "name": "stderr",
     "output_type": "stream",
     "text": [
      "Warming up PyWSD (takes ~10 secs)... took 8.840434551239014 secs.\n"
     ]
    }
   ],
   "source": [
    "#Install pywsd\n",
    "!pip install pywsd\n",
    "#Import functions\n",
    "from nltk.corpus import wordnet as wn\n",
    "from nltk.stem import PorterStemmer\n",
    "from itertools import chain\n",
    "from pywsd.lesk import simple_lesk"
   ]
  },
  {
   "cell_type": "markdown",
   "metadata": {},
   "source": [
    "## Step 8-2 Disambiguating word sense\n",
    "Now the code:\n"
   ]
  },
  {
   "cell_type": "code",
   "execution_count": 3,
   "metadata": {},
   "outputs": [
    {
     "name": "stdout",
     "output_type": "stream",
     "text": [
      "Context-1: I went to the bank to deposit my money\n",
      "Sense: Synset('depository_financial_institution.n.01')\n",
      "Definition :  a financial institution that accepts deposits and channels the money into lending activities\n",
      "Context-2: The river bank was full of dead fishes\n",
      "Sense: Synset('bank.n.01')\n",
      "Definition :  sloping land (especially the slope beside a body of water)\n"
     ]
    }
   ],
   "source": [
    "# Sentences\n",
    "bank_sents = ['I went to the bank to deposit my money','The river bank was full of dead fishes']\n",
    "\n",
    "# calling the lesk function and printing results for both the sentences\n",
    "print (\"Context-1:\", bank_sents[0])\n",
    "answer = simple_lesk(bank_sents[0],'bank')\n",
    "print (\"Sense:\", answer)\n",
    "print (\"Definition : \", answer.definition())\n",
    "print (\"Context-2:\", bank_sents[1])\n",
    "answer = simple_lesk(bank_sents[1],'bank','n')\n",
    "print (\"Sense:\", answer)\n",
    "print (\"Definition : \", answer.definition())"
   ]
  }
 ],
 "metadata": {
  "kernelspec": {
   "display_name": "Python 3",
   "language": "python",
   "name": "python3"
  },
  "language_info": {
   "codemirror_mode": {
    "name": "ipython",
    "version": 3
   },
   "file_extension": ".py",
   "mimetype": "text/x-python",
   "name": "python",
   "nbconvert_exporter": "python",
   "pygments_lexer": "ipython3",
   "version": "3.6.3"
  }
 },
 "nbformat": 4,
 "nbformat_minor": 2
}

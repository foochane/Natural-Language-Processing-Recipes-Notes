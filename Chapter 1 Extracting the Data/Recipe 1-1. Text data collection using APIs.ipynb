{
 "cells": [
  {
   "cell_type": "markdown",
   "metadata": {},
   "source": [
    "## 我们通常可用的数据源：\n",
    "\n",
    "### 客户数据（Client Data）\n",
    "- SQL databases\n",
    "- Hadoop clusters\n",
    "- Cloud storage\n",
    "- Flat files\n",
    "\n",
    "### 免费的资源（Free source）\n",
    "- Free APIs like Twitter\n",
    "- Wikipedia\n",
    "- Government data (e.g. http://data.gov)\n",
    "- Census data (e.g. http://www.census.gov/data.html)\n",
    "- Health care claim data (e.g. https://www.healthdata.g \n",
    "\n",
    "### 网页爬取（Web scraping）"
   ]
  },
  {
   "cell_type": "markdown",
   "metadata": {},
   "source": [
    "## 问题\n",
    "\n",
    "使用Twitter APIs 收集文本数据。"
   ]
  },
  {
   "cell_type": "markdown",
   "metadata": {},
   "source": [
    "## 解决\n",
    "\n",
    "Twitter有大量的数据，其中有很多价值。社交媒体营销人员正以此为生。每天都有大量的推文，每条推文都有一些故事可以讲述。当收集并分析所有这些数据时，它将为企业提供关于其公司、产品、服务等的大量信息。\n",
    "\n",
    "让我们看看如何在这个配方中提取数据，然后在接下来的章节中探讨如何利用它。\n",
    "\n",
    "### Step 1-1登录Twitter开发人员门户\n",
    "\n",
    "在Twitter developer portal中创建自己的应用程序，并获取下面提到的密钥。有了这些凭证之后，就可以开始提取数据了\n"
   ]
  },
  {
   "cell_type": "markdown",
   "metadata": {},
   "source": [
    "### Step1-2在Python中执行下面的语句"
   ]
  },
  {
   "cell_type": "code",
   "execution_count": 1,
   "metadata": {},
   "outputs": [
    {
     "name": "stdout",
     "output_type": "stream",
     "text": [
      "Collecting tweepy\n",
      "  Downloading https://files.pythonhosted.org/packages/d5/5f/daac4b4e9b30d7d2a6fdd16a880ff79f27918fe388e4dfc1983dec3a9876/tweepy-3.7.0-py2.py3-none-any.whl\n",
      "Requirement already satisfied: PySocks>=1.5.7 in d:\\workspace\\python\\anaconda3\\lib\\site-packages (from tweepy) (1.6.7)\n",
      "Requirement already satisfied: requests>=2.11.1 in d:\\workspace\\python\\anaconda3\\lib\\site-packages (from tweepy) (2.18.4)\n",
      "Requirement already satisfied: six>=1.10.0 in d:\\workspace\\python\\anaconda3\\lib\\site-packages (from tweepy) (1.12.0)\n",
      "Collecting requests-oauthlib>=0.7.0 (from tweepy)\n",
      "  Downloading https://files.pythonhosted.org/packages/c2/e2/9fd03d55ffb70fe51f587f20bcf407a6927eb121de86928b34d162f0b1ac/requests_oauthlib-1.2.0-py2.py3-none-any.whl\n",
      "Requirement already satisfied: chardet<3.1.0,>=3.0.2 in d:\\workspace\\python\\anaconda3\\lib\\site-packages (from requests>=2.11.1->tweepy) (3.0.4)\n",
      "Requirement already satisfied: idna<2.7,>=2.5 in d:\\workspace\\python\\anaconda3\\lib\\site-packages (from requests>=2.11.1->tweepy) (2.6)\n",
      "Requirement already satisfied: urllib3<1.23,>=1.21.1 in d:\\workspace\\python\\anaconda3\\lib\\site-packages (from requests>=2.11.1->tweepy) (1.22)\n",
      "Requirement already satisfied: certifi>=2017.4.17 in d:\\workspace\\python\\anaconda3\\lib\\site-packages (from requests>=2.11.1->tweepy) (2017.7.27.1)\n",
      "Collecting oauthlib>=3.0.0 (from requests-oauthlib>=0.7.0->tweepy)\n",
      "  Downloading https://files.pythonhosted.org/packages/16/95/699466b05b72b94a41f662dc9edf87fda4289e3602ecd42d27fcaddf7b56/oauthlib-3.0.1-py2.py3-none-any.whl (142kB)\n",
      "Installing collected packages: oauthlib, requests-oauthlib, tweepy\n",
      "Successfully installed oauthlib-3.0.1 requests-oauthlib-1.2.0 tweepy-3.7.0\n"
     ]
    }
   ],
   "source": [
    "# Install tweepy\n",
    "!pip install tweepy"
   ]
  },
  {
   "cell_type": "code",
   "execution_count": null,
   "metadata": {},
   "outputs": [],
   "source": [
    "# Import the libraries\n",
    "import numpy as np\n",
    "import tweepy\n",
    "import json\n",
    "import pandas as pd\n",
    "from tweepy import OAuthHandler\n",
    "\n",
    "# credentials\n",
    "consumer_key = \"adjbiejfaaoeh\"\n",
    "consumer_secret = \"had73haf78af\"\n",
    "access_token = \"jnsfby5u4yuawhafjeh\"\n",
    "access_token_secret = \"jhdfgay768476r\"\n",
    "\n",
    "# calling API\n",
    "auth = tweepy.OAuthHandler(consumer_key, consumer_secret)\n",
    "auth.set_access_token(access_token, access_token_secret)\n",
    "api = tweepy.API(auth)\n",
    "\n",
    "# Provide the query you want to pull the data. For example,pulling data for the mobile phone ABC\n",
    "query =\"ABC\"\n",
    "\n",
    "# Fetching tweets\n",
    "Tweets = api.search(query, count = 10,lang='en',\n",
    "exclude='retweets',tweet_mode='extended')"
   ]
  }
 ],
 "metadata": {
  "kernelspec": {
   "display_name": "Python 3",
   "language": "python",
   "name": "python3"
  },
  "language_info": {
   "codemirror_mode": {
    "name": "ipython",
    "version": 3
   },
   "file_extension": ".py",
   "mimetype": "text/x-python",
   "name": "python",
   "nbconvert_exporter": "python",
   "pygments_lexer": "ipython3",
   "version": "3.6.3"
  }
 },
 "nbformat": 4,
 "nbformat_minor": 2
}

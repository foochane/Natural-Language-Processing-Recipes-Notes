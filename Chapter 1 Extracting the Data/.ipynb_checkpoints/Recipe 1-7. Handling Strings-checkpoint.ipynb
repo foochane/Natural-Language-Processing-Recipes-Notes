{
 "cells": [
  {
   "cell_type": "markdown",
   "metadata": {},
   "source": [
    "### 函数\n",
    "- s.find(t) index of first instance of string t inside s (-1 if not found)\n",
    "- s.rfind(t) index of last instance of string t inside s (-1 if not found)\n",
    "- s.index(t) like s.find(t) except it raises ValueError if not found\n",
    "- s.rindex(t) like s.rfind(t) except it raises ValueError if not found\n",
    "- s.join(text) combine the words of the text into a string using s as the glue\n",
    "- s.split(t) split s into a list wherever a t is found(whitespace by default)\n",
    "- s.splitlines() split s into a list of strings, one per line\n",
    "- s.lower() a lowercased version of the string s\n",
    "- s.upper() an uppercased version of the string s\n",
    "- s.title() a titlecased version of the string s\n",
    "- s.strip() a copy of s without leading or trailing whitespace\n",
    "- s.replace(t, u) replace instances of t with u inside s"
   ]
  },
  {
   "cell_type": "markdown",
   "metadata": {},
   "source": []
  }
 ],
 "metadata": {
  "kernelspec": {
   "display_name": "Python 3",
   "language": "python",
   "name": "python3"
  },
  "language_info": {
   "codemirror_mode": {
    "name": "ipython",
    "version": 3
   },
   "file_extension": ".py",
   "mimetype": "text/x-python",
   "name": "python",
   "nbconvert_exporter": "python",
   "pygments_lexer": "ipython3",
   "version": "3.6.3"
  }
 },
 "nbformat": 4,
 "nbformat_minor": 2
}

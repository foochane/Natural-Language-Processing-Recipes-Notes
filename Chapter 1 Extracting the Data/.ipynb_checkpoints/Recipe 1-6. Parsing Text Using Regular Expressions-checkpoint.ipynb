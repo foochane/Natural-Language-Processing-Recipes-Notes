{
 "cells": [
  {
   "cell_type": "markdown",
   "metadata": {},
   "source": [
    "### 问题 \n",
    "使用正则表达式（regular expressions）处理文本"
   ]
  },
  {
   "cell_type": "markdown",
   "metadata": {},
   "source": [
    "### 解决\n",
    "#### 使用python中的`re`库\n",
    "\n",
    "##### 1 Basic flags: I, L, M, S, U, X\n",
    "- `re.I` ：忽略大小写\n",
    "- `re.L` ：查找局部依赖项\n",
    "- `re.M` ：Tis flag is useful if you want to find patterns throughout multiple lines.\n",
    "- `re.S` ：查找点匹配\n",
    "- `re.U` ：unicode 码\n",
    "- `re.X` ：编写更有可读性的正则表达式\n",
    "\n",
    "##### 2 正则表达式的功能\n",
    "- 找出字符a和b的出现的字符：`Regex:[ab]`\n",
    "- 找出除了a和b之外的字符：`Regex:[^ab]`\n",
    "- 找出包含a到b的字符：`Regex:[a-z]`\n",
    "- 找出除了a到z的字符：`Regex:[^a-z]`\n",
    "- 找出包含a到b和A到Z的字符：`Regex:[a-zA-Z]`\n",
    "- 任何空白字符串：`Regex: \\s`\n",
    "- 任何非空字符串：`Regex: \\S`\n",
    "- 任何数字： `Regex: \\d`\n",
    "- 任何非数字：`Regex: \\D`\n",
    "- 任何非字符：`Regex: \\W`\n",
    "- 任何非字符：`Regex: \\w`\n",
    "- 匹配a或者b： `Regex: (a|b)`\n",
    "- Te occurrence of a is either zero or one:\n",
    "- *  Matches zero or one occurrence but not more than one occurrence`Regex: a? ; ?`\n",
    "- *  The occurrence of a is zero times or more than that:`Regex: a* ; * `matches zero or more than that\n",
    "- *  The occurrence of a is one time or more than that:`Regex: a+ ; +` matches occurrences one or more that one time\n",
    "- *  Exactly match three occurrences of a: `Regex: a{3}`\n",
    "- *  Match simultaneous occurrences of a with 3 or more than 3: `Regex: a{3,}`\n",
    "- *  Match simultaneous occurrences of a between 3 to 6: `Regex: a{3,6}`\n",
    "- *  Starting of the string: `Regex: ^`\n",
    "- *  Match word boundary:`Regex: \\b`\n",
    "- *  Non-word boundary: `Regex: \\B`\n",
    "- *  Ending of the string: `Regex: $ `"
   ]
  },
  {
   "cell_type": "markdown",
   "metadata": {},
   "source": [
    "##### 3 `re.match()`: \n",
    "这只检查字符串开头是否匹配。因此，如果它在输入字符串的开头找到模式，那么它返回匹配的模式;否则;它返回一个名词.\n",
    "\n",
    "##### 4 `re.search()`:\n",
    "将检查字符串中任何地方是否匹配。它查找给定输入字符串或数据中出现的所有模式。"
   ]
  },
  {
   "cell_type": "markdown",
   "metadata": {},
   "source": [
    "##### 5 ` re.split`"
   ]
  },
  {
   "cell_type": "code",
   "execution_count": 12,
   "metadata": {},
   "outputs": [
    {
     "data": {
      "text/plain": [
       "['I', 'like', 'this', 'book.']"
      ]
     },
     "execution_count": 12,
     "metadata": {},
     "output_type": "execute_result"
    }
   ],
   "source": [
    "import re\n",
    "#run the split query\n",
    "re.split('\\s+','I like this book.')"
   ]
  },
  {
   "cell_type": "markdown",
   "metadata": {},
   "source": [
    "##### 5 抽取邮箱地址"
   ]
  },
  {
   "cell_type": "code",
   "execution_count": 14,
   "metadata": {},
   "outputs": [
    {
     "name": "stdout",
     "output_type": "stream",
     "text": [
      "xyz@abc.com\n",
      "pqr@mno.com\n"
     ]
    }
   ],
   "source": [
    "# 定义一个包含邮箱的句子\n",
    "doc = \"For more details please mail us at: xyz@abc.com,pqr@mno.com\"\n",
    "\n",
    "# 读取邮箱地址\n",
    "addresses = re.findall(r'[\\w\\.-]+@[\\w\\.-]+',doc)\n",
    "for address in addresses:\n",
    "    print(address)"
   ]
  },
  {
   "cell_type": "markdown",
   "metadata": {},
   "source": [
    "##### 6 替换邮箱地址"
   ]
  },
  {
   "cell_type": "code",
   "execution_count": 15,
   "metadata": {},
   "outputs": [
    {
     "name": "stdout",
     "output_type": "stream",
     "text": [
      "For more details please mail us at pqr@mno.com\n"
     ]
    }
   ],
   "source": [
    "# 定义一个包含邮箱的句子\n",
    "doc = \"For more details please mail us at xyz@abc.com\"\n",
    "\n",
    "# 使用 re.sub 函数\n",
    "new_email_address = re.sub(r'([\\w\\.-]+)@([\\w\\.-]+)',r'pqr@mno.com', doc)\n",
    "print(new_email_address)"
   ]
  },
  {
   "cell_type": "markdown",
   "metadata": {},
   "source": [
    "##### 7 从电子书了读取数据"
   ]
  },
  {
   "cell_type": "code",
   "execution_count": 16,
   "metadata": {},
   "outputs": [
    {
     "name": "stdout",
     "output_type": "stream",
     "text": [
      " produced by martin adamson david widger with corrections by andrew sly the idiot by fyodor dostoyevsky translated by eva martin part i i. towards the end of november during a thaw at nine o clock one morning a train on the warsaw and petersburg railway was approaching the latter city at full speed. the morning was so damp and misty that it was only with great difficulty that the day succeeded in breaking and it was impossible to distinguish anything more than a few yards away from the carriage windows. some of the passengers by this particular train were returning from abroad but the third class carriages were the best filled chiefly with insignificant persons of various occupations and degrees picked up at the different stations nearer town. all of them seemed weary and most of them had sleepy eyes and a shivering expression while their complexions generally appeared to have taken on the colour of the fog outside. when day dawned two passengers in one of the third class carriages found themselves opposite each other. both were young fellows both were rather poorly dressed both had remarkable faces and both were evidently anxious to start a conversation. if they had but known why at this particular moment they were both remarkable persons they would undoubtedly have wondered at the strange chance which had set them down opposite to one another in a third class carriage of the warsaw railway company. one of them was a young fellow of about twenty seven not tall with black curling hair and small grey fiery eyes. his nose was broad and flat and he had high cheek bones his thin lips were constantly compressed into an impudent ironical it might almost be called a malicious smile but his forehead was high and well formed and atoned for a good deal of the ugliness of the lower part of his face. a special feature of this physiognomy was its death like pallor which gave to the whole man an indescribably emaciated appearance in spite of his hard look and at the same time a sort of passionate and suffering expression which did not harmonize with his impudent sarcastic smile and keen self satisfied bearing. he wore a large fur or rather astrachan overcoat which had kept him warm all night while his neighbour had been obliged to bear the full severity of a russian november night entirely unprepared. his wide sleeveless mantle with a large cape to it the sort of cloak one sees upon travellers during the winter months in switzerland or north italy was by no means adapted to the long cold journey through russia from eydkuhnen to st. petersburg. the wearer of this cloak was a young fellow also of about twenty six or twenty seven years of age slightly above the middle height very fair with a thin pointed and very light coloured beard his eyes were large and blue and had an intent look about them yet that heavy expression which some people affirm to be a peculiarity as well as evidence of an epileptic subject. his face was decidedly a pleasant one for all that refined but quite colourless except for the circumstance that at this moment it was blue with cold. he held a bundle made up of an old faded silk handkerchief that apparently contained all his travelling wardrobe and wore thick shoes and gaiters his whole appearance being very un russian. his black haired neighbour inspected these peculiarities having nothing better to do and at length remarked with that rude enjoyment of the discomforts of others which the common classes so often show cold very said his neighbour readily and this is a thaw too. fancy if it had been a hard frost i never thought it would be so cold in the old country. i ve grown quite out of the way of it. what been abroad i suppose yes straight from switzerland. wheugh my goodness the black haired young fellow whistled and then laughed. the conversation proceeded. the readiness of the fair haired young man in the cloak to answer all his opposite neighbour s questions was surprising. he seemed to have no suspicion of any impertinence or inappropriateness in the fact of such questions being put to him. replying to them he made known to the inquirer that he certainly had been long absent from russia more than four years that he had been sent abroad for his health that he had suffered from some strange nervous malady a kind of epilepsy with convulsive spasms. his interlocutor burst out laughing several times at his answers and more than ever when to the question whether he had been cured the patient replied no they did not cure me. hey that s it you stumped up your money for nothing and we believe in those fellows here remarked the black haired individual sarcastically. gospel truth sir gospel truth exclaimed another passenger a shabbily dressed man of about forty who looked like a clerk and possessed a red nose and a very blotchy face. gospel truth all they do is to get hold of our good russian money free gratis and for nothing. oh but you re quite wrong in my particular instance said the swiss patient quietly. of course i can t argue the matter because i know only my own case but my doctor gave me money and he had very little to pay my journey back besides having kept me at his own expense while there for nearly two years. why was there no one else to pay for you asked the black haired one. no mr. pavlicheff who had been supporting me there died a couple of years ago. i wrote to mrs. general epanchin at the time she is a distant relative of mine but she did not answer my letter. and so eventually i came back. and where have you come to that is where am i going to stay i i really don t quite know yet i both the listeners laughed again. i suppose your whole set up is in that bundle then asked the first. i bet anything it is exclaimed the red nosed passenger with extreme satisfaction and that he has precious little in the luggage van though of course poverty is no crime we must remember that it appeared that it was indeed as they had surmised. the young fellow hastened to admit the fact with wonderful readiness. your bundle has some importance however continued the clerk when they had laughed their fill it was observable that the subject of their mirth joined in the laughter when he saw them laughing for though i dare say it is not stuffed full of friedrichs d or and louis d or judge from your costume and gaiters still if you can add to your possessions such a valuable property as a relation like mrs. general epanchin then your bundle becomes a significant object at once. that is of course if you really are a relative of mrs. epanchin s and have not made a little error through well absence of mind which is very common to human beings or say through a too luxuriant fancy oh you are right again said the fair haired traveller for i really am almost wrong when i say she and i are related. she is hardly a relation at all so little in fact that i was not in the least surprised to have no answer to my letter. i expected as much. h m you spent your postage for nothing then. h m you are candid however and that is commendable. h m mrs. epanchin oh yes a most eminent person. i know her. as for mr. pavlicheff who supported you in switzerland i know him too at least if it was nicolai andreevitch of that name a fine fellow he was and had a property of four thousand souls in his day. yes nicolai andreevitch that was his name and the young fellow looked earnestly and with curiosity at the all knowing gentleman with the red nose. this sort of character is met with pretty frequently in a certain class. they are people who know everyone that is they know where a man is employed what his salary is whom he knows whom he married what money his wife had who are his cousins and second cousins etc. etc. these men generally have about a hundred pounds a year to live on and they spend their whole time and talents in the amassing of this style of knowledge which they reduce or raise to the standard of a science. during the latter part of the conversation the black haired young man had become very impatient. he stared out of the window and fidgeted and evidently longed for the end of the journey. he was very absent he would appear to listen and heard nothing and he would laugh of a sudden evidently with no idea of what he was laughing about. excuse me said the red nosed man to the young fellow with the bundle rather suddenly whom have i the honour to be talking to prince lef nicolaievitch muishkin replied the latter with perfect readiness. prince muishkin lef nicolaievitch h m i don t know i m sure i may say i have never heard of such a person said the clerk thoughtfully. at least the name i admit is historical. karamsin must mention the family name of course in his history but as an individual one never hears of any prince muishkin nowadays. of course not replied the prince there are none except myself. i believe i am the last and only one. as to my forefathers they have always been a poor lot my own father was a sublieutenant in the army. i don t know how mrs. epanchin comes into the muishkin family but she is descended from the princess muishkin and she too is the last of her line. and did you learn science and all that with your professor over there asked the black haired passenger. oh yes i did learn a little but i ve never learned anything whatever said the other. oh but i learned very little you know added the prince as though excusing himself. they could not teach me very much on account of my illness. do you know the rogojins asked his questioner abruptly. no i don t not at all i hardly know anyone in russia. why is that your name yes i am rogojin parfen rogojin. parfen rogojin dear me then don t you belong to those very rogojins perhaps began the clerk with a very perceptible increase of civility in his tone. yes those very ones interrupted rogojin impatiently and with scant courtesy. i may remark that he had not once taken any notice of the blotchy faced passenger and had hitherto addressed all his remarks direct to the prince. dear me is it possible observed the clerk while his face assumed an expression of great deference and servility if not of absolute alarm what a son of that very semen rogojin hereditary honourable citizen who died a month or so ago and left two million and a half of roubles and how do you know that he left two million and a half of roubles asked rogojin disdainfully and not deigning so much as to look at the other. however it s true enough that my father died a month ago and that here am i returning from pskoff a month after with hardly a boot to my foot. they ve treated me like a dog i ve been ill of fever at pskoff the whole time and not a line nor farthing of money have i received from my mother or my confounded brother and now you ll have a million roubles at least goodness gracious me exclaimed the clerk rubbing his hands. five weeks since i was just like yourself continued rogojin addressing the prince with nothing but a bundle and the clothes i wore. i ran away from my father and came to pskoff to my aunt s house where i caved in at once with fever and he went and died while i was away. all honour to my respected father s memory but he uncommonly nearly killed me all the same. give you my word prince if i hadn t cut and run then when i did he d have murdered me like a dog. i suppose you angered him somehow asked the prince looking at the millionaire with considerable curiosity. but though there may have been something remarkable in the fact that this man was heir to millions of roubles there was something about him which surprised and interested the prince more than that. rogojin too seemed to have taken up the conversation with unusual alacrity it appeared that he was still in a considerable state of excitement if not absolutely feverish and was in real need of someone to talk to for the mere sake of talking as safety valve to his agitation. as for his red nosed neighbour the latter since the information as to the identity of rogojin hung over him seemed to be living on the honey of his words and in the breath of his nostrils catching at every syllable as though it were a pearl of great price. oh yes i angered him i certainly did anger him replied rogojin. but what puts me out so is my brother. of course my mother couldn t do anything she s too old and whatever brother senka says is law for her but why couldn t he let me know he sent a telegram they say. what s the good of a telegram it frightened my aunt so that she sent it back to the office unopened and there it s been ever since it s only thanks to konief that i heard at all he wrote me all about it. he says my brother cut off the gold tassels from my father s coffin at night because they re worth a lot of money says he. why i can get him sent off to siberia for that alone if i like it s sacrilege. here you scarecrow he added addressing the clerk at his side is it sacrilege or not by law sacrilege certainly certainly sacrilege said the latter. and it s siberia for sacrilege isn t it undoubtedly so siberia of course they will think that i m still ill continued rogojin to the prince but i sloped off quietly seedy as i was took the train and came away. aha brother senka you ll have to open your gates and let me in my boy i know he told tales about me to my father i know that well enough but i certainly did rile my father about nastasia philipovna that s very sure and that was my own doing. nastasia philipovna said the clerk as though trying to think out something. come you know nothing about her said rogojin impatiently. and supposing i do know something observed the other triumphantly. bosh there are plenty of nastasia philipovnas. and what an impertinent beast you are he added angrily. i thought some creature like you would hang on to me as soon as i got hold of my money. oh but i do know as it happens said the clerk in an aggravating manner. lebedeff knows all about her. you are pleased to reproach me your excellency but what if i prove that i am right after all nastasia phillpovna s family name is barashkoff i know you see and she is a very well known lady indeed and comes of a good family too. she is connected with one totski afanasy ivanovitch a man of considerable property a director of companies and so on and a great friend of general epanchin who is interested in the same matters as he is. my eyes said rogojin really surprised at last. the devil take the fellow how does he know that why he knows everything lebedeff knows everything i was a month or two with lihachof after his father died your excellency and while he was knocking about he s in the debtor s prison now i was with him and he couldn t do a thing without lebedeff and i got to know nastasia philipovna and several people at that time. nastasia philipovna why you don t mean to say that she and lihachof cried rogojin turning quite pale. no no no no no nothing of the sort i assure you said lebedeff hastily. oh dear no not for the world totski s the only man with any chance there. oh no he takes her to his box at the opera at the french theatre of an evening and the officers and people all look at her and say by jove there s the famous nastasia philipovna but no one ever gets any further than that for there is nothing more to say. yes it s quite true said rogojin frowning gloomily so zaleshoff told me. i was walking about the nefsky one fine day prince in my father s old coat when she suddenly came out of a shop and stepped into her carriage. i swear i was all of a blaze at once. then i met zaleshoff looking like a hair dresser s assistant got up as fine as i don t know who while i looked like a tinker. don t flatter yourself my boy said he she s not for such as you she s a princess she is and her name is nastasia philipovna barashkoff and she lives with totski who wishes to get rid of her because he s growing rather old fifty five or so and wants to marry a certain beauty the loveliest woman in all petersburg. and then he told me that i could see nastasia philipovna at the opera house that evening if i liked and described which was her box. well i d like to see my father allowing any of us to go to the theatre he d sooner have killed us any day. however i went for an hour or so and saw nastasia philipovna and i never slept a wink all night after. next morning my father happened to give me two government loan bonds to sell worth nearly five thousand roubles each. sell them said he and then take seven thousand five hundred roubles to the office give them to the cashier and bring me back the rest of the ten thousand without looking in anywhere on the way look sharp i shall be waiting for you. well i sold the bonds but i didn t take the seven thousand roubles to the office i went straight to the english shop and chose a pair of earrings with a diamond the size of a nut in each. they cost four hundred roubles more than i had so i gave my name and they trusted me. with the earrings i went at once to zaleshoff s. come on i said come on to nastasia philipovna s and off we went without more ado. i tell you i hadn t a notion of what was about me or before me or below my feet all the way i saw nothing whatever. we went straight into her drawing room and then she came out to us. i didn t say right out who i was but zaleshoff said from parfen rogojin in memory of his first meeting with you yesterday be so kind as to accept these she opened the parcel looked at the earrings and laughed. thank your friend mr. rogojin for his kind attention says she and bowed and went off. why didn t i die there on the spot the worst of it all was though that the beast zaleshoff got all the credit of it i was short and abominably dressed and stood and stared in her face and never said a word because i was shy like an ass and there was he all in the fashion pomaded and dressed out with a smart tie on bowing and scraping and i bet anything she took him for me all the while look here now i said when we came out none of your interference here after this do you understand he laughed and how are you going to settle up with your father says he. i thought i might as well jump into the neva at once without going home first but it struck me that i wouldn t after all and i went home feeling like one of the damned. my goodness shivered the clerk. and his father he added for the prince s instruction and his father would have given a man a ticket to the other world for ten roubles any day not to speak of ten thousand the prince observed rogojin with great curiosity he seemed paler than ever at this moment. what do you know about it cried the latter. well my father learned the whole story at once and zaleshoff blabbed it all over the town besides. so he took me upstairs and locked me up and swore at me for an hour. this is only a foretaste says he wait a bit till night comes and i ll come back and talk to you again. well what do you think the old fellow went straight off to nastasia philipovna touched the floor with his forehead and began blubbering and beseeching her on his knees to give him back the diamonds. so after awhile she brought the box and flew out at him. there she says take your earrings you wretched old miser although they are ten times dearer than their value to me now that i know what it must have cost parfen to get them give parfen my compliments she says and thank him very much well i meanwhile had borrowed twenty five roubles from a friend and off i went to pskoff to my aunt s. the old woman there lectured me so that i left the house and went on a drinking tour round the public houses of the place. i was in a high fever when i got to pskoff and by nightfall i was lying delirious in the streets somewhere or other oho we ll make nastasia philipovna sing another song now giggled lebedeff rubbing his hands with glee. hey my boy we ll get her some proper earrings now we ll get her such earrings that look here cried rogojin seizing him fiercely by the arm look here if you so much as name nastasia philipovna again i ll tan your hide as sure as you sit there aha do by all means if you tan my hide you won t turn me away from your society. you ll bind me to you with your lash for ever. ha ha here we are at the station though. sure enough the train was just steaming in as he spoke. though rogojin had declared that he left pskoff secretly a large collection of friends had assembled to greet him and did so with profuse waving of hats and shouting. why there s zaleshoff here too he muttered gazing at the scene with a sort of triumphant but unpleasant smile. then he suddenly turned to the prince prince i don t know why i have taken a fancy to you perhaps because i met you just when i did. but no it can t be that for i met this fellow nodding at lebedeff too and i have not taken a fancy to him by any means. come to see me prince we ll take off those gaiters of yours and dress you up in a smart fur coat the best we can buy. you shall have a dress coat best quality white waistcoat anything you like and your pocket shall be full of money. come and you shall go with me to nastasia philipovna s. now then will you come or no accept accept prince lef nicolaievitch said lebedef solemnly don t let it slip accept quick prince muishkin rose and stretched out his hand courteously while he replied with some cordiality i will come with the greatest pleasure and thank you very much for taking a fancy to me. i dare say i may even come today if i have time for i tell you frankly that i like you very much too. i liked you especially when you told us about the diamond earrings but i liked you before that as well though you have such a dark clouded sort of face. thanks very much for the offer of clothes and a fur coat i certainly shall require both clothes and coat very soon. as for money i have hardly a copeck about me at this moment. you shall have lots of money by the evening i shall have plenty so come along that s true enough he ll have lots before evening put in lebedeff. but look here are you a great hand with the ladies let s know that first asked rogojin. oh no oh no said the prince i couldn t you know my illness i hardly ever saw a soul. h m well here you fellow you can come along with me now if you like cried rogojin to lebedeff and so they all left the carriage. lebedeff had his desire. he went off with the noisy group of rogojin s friends towards the voznesensky while the prince s route lay towards the litaynaya. it was damp and wet. the prince asked his way of passers by and finding that he was a couple of miles or so from his destination he determined to take a droshky. \n"
     ]
    }
   ],
   "source": [
    "# Import library\n",
    "import re\n",
    "import requests\n",
    "\n",
    "#url you want to extract\n",
    "url = 'https://www.gutenberg.org/files/2638/2638-0.txt'\n",
    "\n",
    "#function to extract\n",
    "def get_book(url):\n",
    "    # Sends a http request to get the text from project Gutenberg\n",
    "    raw = requests.get(url).text\n",
    "    \n",
    "    # Discards the metadata from the beginning of the book\n",
    "    start = re.search(r\"\\*\\*\\* START OF THIS PROJECT GUTENBERG EBOOK .* \\*\\*\\*\",raw ).end()\n",
    "    \n",
    "    # Discards the metadata from the end of the book\n",
    "    stop = re.search(r\"II\", raw).start()\n",
    "   \n",
    "    # Keeps the relevant text\n",
    "    text = raw[start:stop]\n",
    "    return text\n",
    "\n",
    "# processing\n",
    "def preprocess(sentence):\n",
    "    return re.sub('[^A-Za-z0-9.]+' , ' ', sentence).lower()\n",
    "\n",
    "#calling the above function\n",
    "book = get_book(url)\n",
    "processed_book = preprocess(book)\n",
    "print(processed_book)"
   ]
  },
  {
   "cell_type": "markdown",
   "metadata": {},
   "source": [
    "##### 8 使用正则表达式对数据进行分析"
   ]
  },
  {
   "cell_type": "code",
   "execution_count": 18,
   "metadata": {},
   "outputs": [
    {
     "data": {
      "text/plain": [
       "302"
      ]
     },
     "execution_count": 18,
     "metadata": {},
     "output_type": "execute_result"
    }
   ],
   "source": [
    "# 统计 the 的个数\n",
    "len(re.findall(r'the', processed_book))"
   ]
  },
  {
   "cell_type": "code",
   "execution_count": 19,
   "metadata": {},
   "outputs": [
    {
     "name": "stdout",
     "output_type": "stream",
     "text": [
      " produced by martin adamson david widger with corrections by andrew sly the idiot by fyodor dostoyevsky translated by eva martin part I i. towards the end of november during a thaw at nine o clock one morning a train on the warsaw and petersburg railway was approaching the latter city at full speed. the morning was so damp and misty that it was only with great difficulty that the day succeeded in breaking and it was impossible to distinguish anything more than a few yards away from the carriage windows. some of the passengers by this particular train were returning from abroad but the third class carriages were the best filled chiefly with insignificant persons of various occupations and degrees picked up at the different stations nearer town. all of them seemed weary and most of them had sleepy eyes and a shivering expression while their complexions generally appeared to have taken on the colour of the fog outside. when day dawned two passengers in one of the third class carriages found themselves opposite each other. both were young fellows both were rather poorly dressed both had remarkable faces and both were evidently anxious to start a conversation. if they had but known why at this particular moment they were both remarkable persons they would undoubtedly have wondered at the strange chance which had set them down opposite to one another in a third class carriage of the warsaw railway company. one of them was a young fellow of about twenty seven not tall with black curling hair and small grey fiery eyes. his nose was broad and flat and he had high cheek bones his thin lips were constantly compressed into an impudent ironical it might almost be called a malicious smile but his forehead was high and well formed and atoned for a good deal of the ugliness of the lower part of his face. a special feature of this physiognomy was its death like pallor which gave to the whole man an indescribably emaciated appearance in spite of his hard look and at the same time a sort of passionate and suffering expression which did not harmonize with his impudent sarcastic smile and keen self satisfied bearing. he wore a large fur or rather astrachan overcoat which had kept him warm all night while his neighbour had been obliged to bear the full severity of a russian november night entirely unprepared. his wide sleeveless mantle with a large cape to it the sort of cloak one sees upon travellers during the winter months in switzerland or north italy was by no means adapted to the long cold journey through russia from eydkuhnen to st. petersburg. the wearer of this cloak was a young fellow also of about twenty six or twenty seven years of age slightly above the middle height very fair with a thin pointed and very light coloured beard his eyes were large and blue and had an intent look about them yet that heavy expression which some people affirm to be a peculiarity as well as evidence of an epileptic subject. his face was decidedly a pleasant one for all that refined but quite colourless except for the circumstance that at this moment it was blue with cold. he held a bundle made up of an old faded silk handkerchief that apparently contained all his travelling wardrobe and wore thick shoes and gaiters his whole appearance being very un russian. his black haired neighbour inspected these peculiarities having nothing better to do and at length remarked with that rude enjoyment of the discomforts of others which the common classes so often show cold very said his neighbour readily and this is a thaw too. fancy if it had been a hard frost I never thought it would be so cold in the old country. I ve grown quite out of the way of it. what been abroad I suppose yes straight from switzerland. wheugh my goodness the black haired young fellow whistled and then laughed. the conversation proceeded. the readiness of the fair haired young man in the cloak to answer all his opposite neighbour s questions was surprising. he seemed to have no suspicion of any impertinence or inappropriateness in the fact of such questions being put to him. replying to them he made known to the inquirer that he certainly had been long absent from russia more than four years that he had been sent abroad for his health that he had suffered from some strange nervous malady a kind of epilepsy with convulsive spasms. his interlocutor burst out laughing several times at his answers and more than ever when to the question whether he had been cured the patient replied no they did not cure me. hey that s it you stumped up your money for nothing and we believe in those fellows here remarked the black haired individual sarcastically. gospel truth sir gospel truth exclaimed another passenger a shabbily dressed man of about forty who looked like a clerk and possessed a red nose and a very blotchy face. gospel truth all they do is to get hold of our good russian money free gratis and for nothing. oh but you re quite wrong in my particular instance said the swiss patient quietly. of course I can t argue the matter because I know only my own case but my doctor gave me money and he had very little to pay my journey back besides having kept me at his own expense while there for nearly two years. why was there no one else to pay for you asked the black haired one. no mr. pavlicheff who had been supporting me there died a couple of years ago. I wrote to mrs. general epanchin at the time she is a distant relative of mine but she did not answer my letter. and so eventually I came back. and where have you come to that is where am I going to stay I i really don t quite know yet I both the listeners laughed again. I suppose your whole set up is in that bundle then asked the first. I bet anything it is exclaimed the red nosed passenger with extreme satisfaction and that he has precious little in the luggage van though of course poverty is no crime we must remember that it appeared that it was indeed as they had surmised. the young fellow hastened to admit the fact with wonderful readiness. your bundle has some importance however continued the clerk when they had laughed their fill it was observable that the subject of their mirth joined in the laughter when he saw them laughing for though I dare say it is not stuffed full of friedrichs d or and louis d or judge from your costume and gaiters still if you can add to your possessions such a valuable property as a relation like mrs. general epanchin then your bundle becomes a significant object at once. that is of course if you really are a relative of mrs. epanchin s and have not made a little error through well absence of mind which is very common to human beings or say through a too luxuriant fancy oh you are right again said the fair haired traveller for I really am almost wrong when I say she and I are related. she is hardly a relation at all so little in fact that I was not in the least surprised to have no answer to my letter. I expected as much. h m you spent your postage for nothing then. h m you are candid however and that is commendable. h m mrs. epanchin oh yes a most eminent person. I know her. as for mr. pavlicheff who supported you in switzerland I know him too at least if it was nicolai andreevitch of that name a fine fellow he was and had a property of four thousand souls in his day. yes nicolai andreevitch that was his name and the young fellow looked earnestly and with curiosity at the all knowing gentleman with the red nose. this sort of character is met with pretty frequently in a certain class. they are people who know everyone that is they know where a man is employed what his salary is whom he knows whom he married what money his wife had who are his cousins and second cousins etc. etc. these men generally have about a hundred pounds a year to live on and they spend their whole time and talents in the amassing of this style of knowledge which they reduce or raise to the standard of a science. during the latter part of the conversation the black haired young man had become very impatient. he stared out of the window and fidgeted and evidently longed for the end of the journey. he was very absent he would appear to listen and heard nothing and he would laugh of a sudden evidently with no idea of what he was laughing about. excuse me said the red nosed man to the young fellow with the bundle rather suddenly whom have I the honour to be talking to prince lef nicolaievitch muishkin replied the latter with perfect readiness. prince muishkin lef nicolaievitch h m I don t know I m sure I may say I have never heard of such a person said the clerk thoughtfully. at least the name I admit is historical. karamsin must mention the family name of course in his history but as an individual one never hears of any prince muishkin nowadays. of course not replied the prince there are none except myself. I believe I am the last and only one. as to my forefathers they have always been a poor lot my own father was a sublieutenant in the army. I don t know how mrs. epanchin comes into the muishkin family but she is descended from the princess muishkin and she too is the last of her line. and did you learn science and all that with your professor over there asked the black haired passenger. oh yes I did learn a little but I ve never learned anything whatever said the other. oh but I learned very little you know added the prince as though excusing himself. they could not teach me very much on account of my illness. do you know the rogojins asked his questioner abruptly. no I don t not at all I hardly know anyone in russia. why is that your name yes I am rogojin parfen rogojin. parfen rogojin dear me then don t you belong to those very rogojins perhaps began the clerk with a very perceptible increase of civility in his tone. yes those very ones interrupted rogojin impatiently and with scant courtesy. I may remark that he had not once taken any notice of the blotchy faced passenger and had hitherto addressed all his remarks direct to the prince. dear me is it possible observed the clerk while his face assumed an expression of great deference and servility if not of absolute alarm what a son of that very semen rogojin hereditary honourable citizen who died a month or so ago and left two million and a half of roubles and how do you know that he left two million and a half of roubles asked rogojin disdainfully and not deigning so much as to look at the other. however it s true enough that my father died a month ago and that here am I returning from pskoff a month after with hardly a boot to my foot. they ve treated me like a dog I ve been ill of fever at pskoff the whole time and not a line nor farthing of money have I received from my mother or my confounded brother and now you ll have a million roubles at least goodness gracious me exclaimed the clerk rubbing his hands. five weeks since I was just like yourself continued rogojin addressing the prince with nothing but a bundle and the clothes I wore. I ran away from my father and came to pskoff to my aunt s house where I caved in at once with fever and he went and died while I was away. all honour to my respected father s memory but he uncommonly nearly killed me all the same. give you my word prince if I hadn t cut and run then when I did he d have murdered me like a dog. I suppose you angered him somehow asked the prince looking at the millionaire with considerable curiosity. but though there may have been something remarkable in the fact that this man was heir to millions of roubles there was something about him which surprised and interested the prince more than that. rogojin too seemed to have taken up the conversation with unusual alacrity it appeared that he was still in a considerable state of excitement if not absolutely feverish and was in real need of someone to talk to for the mere sake of talking as safety valve to his agitation. as for his red nosed neighbour the latter since the information as to the identity of rogojin hung over him seemed to be living on the honey of his words and in the breath of his nostrils catching at every syllable as though it were a pearl of great price. oh yes I angered him I certainly did anger him replied rogojin. but what puts me out so is my brother. of course my mother couldn t do anything she s too old and whatever brother senka says is law for her but why couldn t he let me know he sent a telegram they say. what s the good of a telegram it frightened my aunt so that she sent it back to the office unopened and there it s been ever since it s only thanks to konief that I heard at all he wrote me all about it. he says my brother cut off the gold tassels from my father s coffin at night because they re worth a lot of money says he. why I can get him sent off to siberia for that alone if I like it s sacrilege. here you scarecrow he added addressing the clerk at his side is it sacrilege or not by law sacrilege certainly certainly sacrilege said the latter. and it s siberia for sacrilege isn t it undoubtedly so siberia of course they will think that I m still ill continued rogojin to the prince but I sloped off quietly seedy as I was took the train and came away. aha brother senka you ll have to open your gates and let me in my boy I know he told tales about me to my father I know that well enough but I certainly did rile my father about nastasia philipovna that s very sure and that was my own doing. nastasia philipovna said the clerk as though trying to think out something. come you know nothing about her said rogojin impatiently. and supposing I do know something observed the other triumphantly. bosh there are plenty of nastasia philipovnas. and what an impertinent beast you are he added angrily. I thought some creature like you would hang on to me as soon as I got hold of my money. oh but I do know as it happens said the clerk in an aggravating manner. lebedeff knows all about her. you are pleased to reproach me your excellency but what if I prove that I am right after all nastasia phillpovna s family name is barashkoff I know you see and she is a very well known lady indeed and comes of a good family too. she is connected with one totski afanasy ivanovitch a man of considerable property a director of companies and so on and a great friend of general epanchin who is interested in the same matters as he is. my eyes said rogojin really surprised at last. the devil take the fellow how does he know that why he knows everything lebedeff knows everything I was a month or two with lihachof after his father died your excellency and while he was knocking about he s in the debtor s prison now I was with him and he couldn t do a thing without lebedeff and I got to know nastasia philipovna and several people at that time. nastasia philipovna why you don t mean to say that she and lihachof cried rogojin turning quite pale. no no no no no nothing of the sort I assure you said lebedeff hastily. oh dear no not for the world totski s the only man with any chance there. oh no he takes her to his box at the opera at the french theatre of an evening and the officers and people all look at her and say by jove there s the famous nastasia philipovna but no one ever gets any further than that for there is nothing more to say. yes it s quite true said rogojin frowning gloomily so zaleshoff told me. I was walking about the nefsky one fine day prince in my father s old coat when she suddenly came out of a shop and stepped into her carriage. I swear I was all of a blaze at once. then I met zaleshoff looking like a hair dresser s assistant got up as fine as I don t know who while I looked like a tinker. don t flatter yourself my boy said he she s not for such as you she s a princess she is and her name is nastasia philipovna barashkoff and she lives with totski who wishes to get rid of her because he s growing rather old fifty five or so and wants to marry a certain beauty the loveliest woman in all petersburg. and then he told me that I could see nastasia philipovna at the opera house that evening if I liked and described which was her box. well I d like to see my father allowing any of us to go to the theatre he d sooner have killed us any day. however I went for an hour or so and saw nastasia philipovna and I never slept a wink all night after. next morning my father happened to give me two government loan bonds to sell worth nearly five thousand roubles each. sell them said he and then take seven thousand five hundred roubles to the office give them to the cashier and bring me back the rest of the ten thousand without looking in anywhere on the way look sharp I shall be waiting for you. well I sold the bonds but I didn t take the seven thousand roubles to the office I went straight to the english shop and chose a pair of earrings with a diamond the size of a nut in each. they cost four hundred roubles more than I had so I gave my name and they trusted me. with the earrings I went at once to zaleshoff s. come on I said come on to nastasia philipovna s and off we went without more ado. I tell you I hadn t a notion of what was about me or before me or below my feet all the way I saw nothing whatever. we went straight into her drawing room and then she came out to us. I didn t say right out who I was but zaleshoff said from parfen rogojin in memory of his first meeting with you yesterday be so kind as to accept these she opened the parcel looked at the earrings and laughed. thank your friend mr. rogojin for his kind attention says she and bowed and went off. why didn t I die there on the spot the worst of it all was though that the beast zaleshoff got all the credit of it I was short and abominably dressed and stood and stared in her face and never said a word because I was shy like an ass and there was he all in the fashion pomaded and dressed out with a smart tie on bowing and scraping and I bet anything she took him for me all the while look here now I said when we came out none of your interference here after this do you understand he laughed and how are you going to settle up with your father says he. I thought I might as well jump into the neva at once without going home first but it struck me that I wouldn t after all and I went home feeling like one of the damned. my goodness shivered the clerk. and his father he added for the prince s instruction and his father would have given a man a ticket to the other world for ten roubles any day not to speak of ten thousand the prince observed rogojin with great curiosity he seemed paler than ever at this moment. what do you know about it cried the latter. well my father learned the whole story at once and zaleshoff blabbed it all over the town besides. so he took me upstairs and locked me up and swore at me for an hour. this is only a foretaste says he wait a bit till night comes and I ll come back and talk to you again. well what do you think the old fellow went straight off to nastasia philipovna touched the floor with his forehead and began blubbering and beseeching her on his knees to give him back the diamonds. so after awhile she brought the box and flew out at him. there she says take your earrings you wretched old miser although they are ten times dearer than their value to me now that I know what it must have cost parfen to get them give parfen my compliments she says and thank him very much well I meanwhile had borrowed twenty five roubles from a friend and off I went to pskoff to my aunt s. the old woman there lectured me so that I left the house and went on a drinking tour round the public houses of the place. I was in a high fever when I got to pskoff and by nightfall I was lying delirious in the streets somewhere or other oho we ll make nastasia philipovna sing another song now giggled lebedeff rubbing his hands with glee. hey my boy we ll get her some proper earrings now we ll get her such earrings that look here cried rogojin seizing him fiercely by the arm look here if you so much as name nastasia philipovna again I ll tan your hide as sure as you sit there aha do by all means if you tan my hide you won t turn me away from your society. you ll bind me to you with your lash for ever. ha ha here we are at the station though. sure enough the train was just steaming in as he spoke. though rogojin had declared that he left pskoff secretly a large collection of friends had assembled to greet him and did so with profuse waving of hats and shouting. why there s zaleshoff here too he muttered gazing at the scene with a sort of triumphant but unpleasant smile. then he suddenly turned to the prince prince I don t know why I have taken a fancy to you perhaps because I met you just when I did. but no it can t be that for I met this fellow nodding at lebedeff too and I have not taken a fancy to him by any means. come to see me prince we ll take off those gaiters of yours and dress you up in a smart fur coat the best we can buy. you shall have a dress coat best quality white waistcoat anything you like and your pocket shall be full of money. come and you shall go with me to nastasia philipovna s. now then will you come or no accept accept prince lef nicolaievitch said lebedef solemnly don t let it slip accept quick prince muishkin rose and stretched out his hand courteously while he replied with some cordiality I will come with the greatest pleasure and thank you very much for taking a fancy to me. I dare say I may even come today if I have time for I tell you frankly that I like you very much too. I liked you especially when you told us about the diamond earrings but I liked you before that as well though you have such a dark clouded sort of face. thanks very much for the offer of clothes and a fur coat I certainly shall require both clothes and coat very soon. as for money I have hardly a copeck about me at this moment. you shall have lots of money by the evening I shall have plenty so come along that s true enough he ll have lots before evening put in lebedeff. but look here are you a great hand with the ladies let s know that first asked rogojin. oh no oh no said the prince I couldn t you know my illness I hardly ever saw a soul. h m well here you fellow you can come along with me now if you like cried rogojin to lebedeff and so they all left the carriage. lebedeff had his desire. he went off with the noisy group of rogojin s friends towards the voznesensky while the prince s route lay towards the litaynaya. it was damp and wet. the prince asked his way of passers by and finding that he was a couple of miles or so from his destination he determined to take a droshky. \n"
     ]
    }
   ],
   "source": [
    "#Replace \"i\" with \"I\"\n",
    "processed_book = re.sub(r'\\si\\s', \" I \", processed_book)\n",
    "print(processed_book)"
   ]
  },
  {
   "cell_type": "code",
   "execution_count": 20,
   "metadata": {},
   "outputs": [
    {
     "data": {
      "text/plain": [
       "['ironical--it',\n",
       " 'malicious--smile',\n",
       " 'fur--or',\n",
       " 'astrachan--overcoat',\n",
       " 'it--the',\n",
       " 'Italy--was',\n",
       " 'malady--a',\n",
       " 'money--and',\n",
       " 'little--to',\n",
       " 'No--Mr',\n",
       " 'is--where',\n",
       " 'I--I',\n",
       " 'I--',\n",
       " '--though',\n",
       " 'crime--we',\n",
       " 'or--judge',\n",
       " 'gaiters--still',\n",
       " '--if',\n",
       " 'through--well',\n",
       " 'say--through',\n",
       " 'however--and',\n",
       " 'Epanchin--oh',\n",
       " 'too--at',\n",
       " 'was--and',\n",
       " 'Andreevitch--that',\n",
       " 'everyone--that',\n",
       " 'reduce--or',\n",
       " 'raise--to',\n",
       " 'listen--and',\n",
       " 'history--but',\n",
       " 'individual--one',\n",
       " 'yes--I',\n",
       " 'but--',\n",
       " 't--not',\n",
       " 'me--then',\n",
       " 'perhaps--',\n",
       " 'Yes--those',\n",
       " 'me--is',\n",
       " 'servility--if',\n",
       " 'Rogojin--hereditary',\n",
       " 'citizen--who',\n",
       " 'least--goodness',\n",
       " 'memory--but',\n",
       " 'latter--since',\n",
       " 'Rogojin--hung',\n",
       " 'him--I',\n",
       " 'anything--she',\n",
       " 'old--and',\n",
       " 'you--scarecrow',\n",
       " 'certainly--certainly',\n",
       " 'father--I',\n",
       " 'Barashkoff--I',\n",
       " 'see--and',\n",
       " 'everything--Lebedeff',\n",
       " 'about--he',\n",
       " 'now--I',\n",
       " 'Lihachof--',\n",
       " 'Zaleshoff--looking',\n",
       " 'old--fifty',\n",
       " 'so--and',\n",
       " 'this--do',\n",
       " 'day--not',\n",
       " 'that--',\n",
       " 'do--by',\n",
       " 'know--my',\n",
       " 'illness--I',\n",
       " 'well--here',\n",
       " 'fellow--you']"
      ]
     },
     "execution_count": 20,
     "metadata": {},
     "output_type": "execute_result"
    }
   ],
   "source": [
    "#find all occurance of text in the format \"abc--xyz\"\n",
    "re.findall(r'[a-zA-Z0-9]*--[a-zA-Z0-9]*', book)"
   ]
  }
 ],
 "metadata": {
  "kernelspec": {
   "display_name": "Python 3",
   "language": "python",
   "name": "python3"
  },
  "language_info": {
   "codemirror_mode": {
    "name": "ipython",
    "version": 3
   },
   "file_extension": ".py",
   "mimetype": "text/x-python",
   "name": "python",
   "nbconvert_exporter": "python",
   "pygments_lexer": "ipython3",
   "version": "3.6.3"
  }
 },
 "nbformat": 4,
 "nbformat_minor": 2
}

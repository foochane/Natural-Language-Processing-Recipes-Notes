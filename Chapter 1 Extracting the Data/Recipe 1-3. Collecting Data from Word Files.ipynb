{
 "cells": [
  {
   "cell_type": "markdown",
   "metadata": {},
   "source": [
    "### 问题\n",
    "读取Word文件"
   ]
  },
  {
   "cell_type": "markdown",
   "metadata": {},
   "source": [
    "### Step1 安装并导入必要的库"
   ]
  },
  {
   "cell_type": "code",
   "execution_count": 1,
   "metadata": {
    "scrolled": true
   },
   "outputs": [
    {
     "name": "stdout",
     "output_type": "stream",
     "text": [
      "Collecting docx\n",
      "  Downloading https://files.pythonhosted.org/packages/4a/8e/5a01644697b03016de339ef444cfff28367f92984dc74eddaab1ed60eada/docx-0.2.4.tar.gz (54kB)\n",
      "Requirement already satisfied: lxml in d:\\workspace\\python\\anaconda3\\lib\\site-packages (from docx) (4.1.0)\n",
      "Requirement already satisfied: Pillow>=2.0 in d:\\workspace\\python\\anaconda3\\lib\\site-packages (from docx) (4.2.1)\n",
      "Requirement already satisfied: olefile in d:\\workspace\\python\\anaconda3\\lib\\site-packages (from Pillow>=2.0->docx) (0.44)\n",
      "Building wheels for collected packages: docx\n",
      "  Running setup.py bdist_wheel for docx: started\n",
      "  Running setup.py bdist_wheel for docx: finished with status 'done'\n",
      "  Stored in directory: C:\\Users\\fucheng\\AppData\\Local\\pip\\Cache\\wheels\\cc\\8d\\09\\563edfd874a35c0c7ed129b6c4fa890efa4c26458bdec6ffc1\n",
      "Successfully built docx\n",
      "Installing collected packages: docx\n",
      "Successfully installed docx-0.2.4\n"
     ]
    }
   ],
   "source": [
    "#Install docx\n",
    "!pip install docx"
   ]
  },
  {
   "cell_type": "code",
   "execution_count": null,
   "metadata": {},
   "outputs": [],
   "source": [
    "#Import library\n",
    "from docx import Document"
   ]
  },
  {
   "cell_type": "markdown",
   "metadata": {},
   "source": [
    "### Step2 读取文件"
   ]
  },
  {
   "cell_type": "code",
   "execution_count": null,
   "metadata": {},
   "outputs": [],
   "source": [
    "#Creating a word file object\n",
    "doc = open(\"testfile.docx\",\"rb\")\n",
    "\n",
    "#creating word reader object\n",
    "document = docx.Document(doc)\n",
    "\n",
    "docu=\"\"\n",
    "for para in document.paragraphs:\n",
    "docu += para.text\n",
    "#to see the output call docu\n",
    "print(docu)"
   ]
  }
 ],
 "metadata": {
  "kernelspec": {
   "display_name": "Python 3",
   "language": "python",
   "name": "python3"
  },
  "language_info": {
   "codemirror_mode": {
    "name": "ipython",
    "version": 3
   },
   "file_extension": ".py",
   "mimetype": "text/x-python",
   "name": "python",
   "nbconvert_exporter": "python",
   "pygments_lexer": "ipython3",
   "version": "3.6.3"
  }
 },
 "nbformat": 4,
 "nbformat_minor": 2
}
